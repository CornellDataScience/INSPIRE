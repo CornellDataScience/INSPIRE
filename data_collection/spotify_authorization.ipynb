{
 "cells": [
  {
   "cell_type": "markdown",
   "metadata": {},
   "source": [
    "### Follow these instructions to set env variables. Only run once\n",
    "+ vim ~/.bash_profile\n",
    "+ press i to enter insert mode\n",
    "+ go to the bottom of the file and add these three lines:\n",
    "    - export SPOTIPY_CLIENT_ID = 'your_id'\n",
    "    - export SPOTIPY_CLIENT_SECRET = 'your_secret'\n",
    "    - export SPOTIPY_REDIRECT_URI = 'https://www.google.com'\n",
    "+ press escape and the type ':wq!' to save and exit \n",
    "+ run source ~/.bash_profile to update your environment\n",
    "+ You will need to shut down the jupyter notebook and restart your terminal to see the effects."
   ]
  },
  {
   "cell_type": "code",
   "execution_count": 3,
   "metadata": {},
   "outputs": [
    {
     "name": "stdout",
     "output_type": "stream",
     "text": [
      "BQABWwEeke9mw6sDTmUdaGZF4ImkPXyKn16pn6O4izPyMigUgD_oSbdiFHGBTGTz09fket9Gii9niCsApTSzbOkz1xVhgnliNvl-RVbSeQ9qX3GLAddLAF1S89HTqlZ8BwW1VuPHYs3-TEQhJUhkawK7btUWb9I\n"
     ]
    }
   ],
   "source": [
    "import os\n",
    "import spotipy\n",
    "import spotipy.util as util\n",
    "\n",
    "scope = 'user-library-read'\n",
    "username = 'your_spotify_username'\n",
    "token = util.prompt_for_user_token(username,scope,client_id=os.environ['SPOTIPY_CLIENT_ID'],client_secret=os.environ['SPOTIPY_CLIENT_SECRET'],redirect_uri=os.environ['SPOTIPY_REDIRECT_URI'])\n",
    "# Grant permission by agreeing. The notebook will as you for the URI you were redirected to. Copy paste the URI\n",
    "# and enter it into the form below. It should look something like 'https://www.google.com/?code=AQC49zB_n...'\n",
    "print(token)\n"
   ]
  },
  {
   "cell_type": "markdown",
   "metadata": {},
   "source": [
    "### Add token to environment\n",
    "+ vim ~/.bash_profile\n",
    "+ press i to enter insert mode\n",
    "+ go to the bottom of the file and add these three lines:\n",
    "    - export SPOTIPY_TOKEN = 'your_token'\n",
    "+ press escape and the type ':wq!' to save and exit \n",
    "+ run source ~/.bash_profile to update your environment\n",
    "+ You will need to shut down the jupyter notebook and restart your terminal to see the effects."
   ]
  },
  {
   "cell_type": "code",
   "execution_count": 4,
   "metadata": {},
   "outputs": [
    {
     "ename": "KeyError",
     "evalue": "'SPOTIPY_TOKEN'",
     "output_type": "error",
     "traceback": [
      "\u001b[0;31m---------------------------------------------------------------------------\u001b[0m",
      "\u001b[0;31mKeyError\u001b[0m                                  Traceback (most recent call last)",
      "\u001b[0;32m<ipython-input-4-1199d816d671>\u001b[0m in \u001b[0;36m<module>\u001b[0;34m()\u001b[0m\n\u001b[1;32m      1\u001b[0m \u001b[0;31m# Next time you make a spotify object, you can just do:\u001b[0m\u001b[0;34m\u001b[0m\u001b[0;34m\u001b[0m\u001b[0m\n\u001b[0;32m----> 2\u001b[0;31m \u001b[0msp\u001b[0m \u001b[0;34m=\u001b[0m \u001b[0mspotipy\u001b[0m\u001b[0;34m.\u001b[0m\u001b[0mSpotify\u001b[0m\u001b[0;34m(\u001b[0m\u001b[0mauth\u001b[0m\u001b[0;34m=\u001b[0m\u001b[0mos\u001b[0m\u001b[0;34m.\u001b[0m\u001b[0menviron\u001b[0m\u001b[0;34m[\u001b[0m\u001b[0;34m'SPOTIPY_TOKEN'\u001b[0m\u001b[0;34m]\u001b[0m\u001b[0;34m)\u001b[0m\u001b[0;34m\u001b[0m\u001b[0m\n\u001b[0m",
      "\u001b[0;32m~/anaconda3/lib/python3.6/os.py\u001b[0m in \u001b[0;36m__getitem__\u001b[0;34m(self, key)\u001b[0m\n\u001b[1;32m    667\u001b[0m         \u001b[0;32mexcept\u001b[0m \u001b[0mKeyError\u001b[0m\u001b[0;34m:\u001b[0m\u001b[0;34m\u001b[0m\u001b[0m\n\u001b[1;32m    668\u001b[0m             \u001b[0;31m# raise KeyError with the original key value\u001b[0m\u001b[0;34m\u001b[0m\u001b[0;34m\u001b[0m\u001b[0m\n\u001b[0;32m--> 669\u001b[0;31m             \u001b[0;32mraise\u001b[0m \u001b[0mKeyError\u001b[0m\u001b[0;34m(\u001b[0m\u001b[0mkey\u001b[0m\u001b[0;34m)\u001b[0m \u001b[0;32mfrom\u001b[0m \u001b[0;32mNone\u001b[0m\u001b[0;34m\u001b[0m\u001b[0m\n\u001b[0m\u001b[1;32m    670\u001b[0m         \u001b[0;32mreturn\u001b[0m \u001b[0mself\u001b[0m\u001b[0;34m.\u001b[0m\u001b[0mdecodevalue\u001b[0m\u001b[0;34m(\u001b[0m\u001b[0mvalue\u001b[0m\u001b[0;34m)\u001b[0m\u001b[0;34m\u001b[0m\u001b[0m\n\u001b[1;32m    671\u001b[0m \u001b[0;34m\u001b[0m\u001b[0m\n",
      "\u001b[0;31mKeyError\u001b[0m: 'SPOTIPY_TOKEN'"
     ]
    }
   ],
   "source": [
    "# Next time you make a spotify object, you can just do:\n",
    "sp = spotipy.Spotify(auth=os.environ['SPOTIPY_TOKEN'])"
   ]
  },
  {
   "cell_type": "code",
   "execution_count": null,
   "metadata": {
    "collapsed": true
   },
   "outputs": [],
   "source": []
  }
 ],
 "metadata": {
  "kernelspec": {
   "display_name": "Python 3",
   "language": "python",
   "name": "python3"
  },
  "language_info": {
   "codemirror_mode": {
    "name": "ipython",
    "version": 3
   },
   "file_extension": ".py",
   "mimetype": "text/x-python",
   "name": "python",
   "nbconvert_exporter": "python",
   "pygments_lexer": "ipython3",
   "version": "3.6.3"
  }
 },
 "nbformat": 4,
 "nbformat_minor": 2
}
