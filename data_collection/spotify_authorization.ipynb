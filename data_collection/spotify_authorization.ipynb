{
 "cells": [
  {
   "cell_type": "markdown",
   "metadata": {},
   "source": [
    "### Follow these instructions to set env variables. Only run once\n",
    "+ vim ~/.bash_profile\n",
    "+ press i to enter insert mode\n",
    "+ go to the bottom of the file and add these three lines:\n",
    "    - export SPOTIPY_CLIENT_ID = 'your_id'\n",
    "    - export SPOTIPY_CLIENT_SECRET = 'your_secret'\n",
    "    - export SPOTIPY_REDIRECT_URI = 'https://www.google.com'\n",
    "+ press escape and the type ':wq!' to save and exit \n",
    "+ run source ~/.bash_profile to update your environment\n",
    "+ You will need to shut down the jupyter notebook and restart your terminal to see the effects."
   ]
  },
  {
   "cell_type": "code",
   "execution_count": null,
   "metadata": {},
   "outputs": [],
   "source": [
    "import os\n",
    "import spotipy\n",
    "import spotipy.util as util\n",
    "\n",
    "scope = 'user-library-read'\n",
    "token = util.prompt_for_user_token(username=os.environ['SPOTIPY_USERNAME'],scope,client_id=os.environ['SPOTIPY_CLIENT_ID'],client_secret=os.environ['SPOTIPY_CLIENT_SECRET'],redirect_uri=os.environ['SPOTIPY_REDIRECT_URI'])\n",
    "# Grant permission by agreeing. The notebook will as you for the URI you were redirected to. Copy paste the URI\n",
    "# and enter it into the form below. It should look something like 'https://www.google.com/?code=AQC49zB_n...'\n",
    "print(token)\n"
   ]
  },
  {
   "cell_type": "markdown",
   "metadata": {},
   "source": [
    "### Add token to environment\n",
    "+ vim ~/.bash_profile\n",
    "+ press i to enter insert mode\n",
    "+ go to the bottom of the file and add these three lines:\n",
    "    - export SPOTIPY_TOKEN = 'your_token'\n",
    "+ press escape and the type ':wq!' to save and exit \n",
    "+ run source ~/.bash_profile to update your environment\n",
    "+ You will need to shut down the jupyter notebook and restart your terminal to see the effects."
   ]
  },
  {
   "cell_type": "code",
   "execution_count": null,
   "metadata": {},
   "outputs": [],
   "source": [
    "# Next time you make a spotify object, you can just do:\n",
    "sp = spotipy.Spotify(auth=token)"
   ]
  },
  {
   "cell_type": "code",
   "execution_count": null,
   "metadata": {},
   "outputs": [],
   "source": [
    "test = sp.search(\"Summer\")"
   ]
  },
  {
   "cell_type": "code",
   "execution_count": null,
   "metadata": {},
   "outputs": [],
   "source": [
    "for x in test:\n",
    "    \n",
    "    for y in test.get(x):\n",
    "        print(y)"
   ]
  },
  {
   "cell_type": "code",
   "execution_count": null,
   "metadata": {},
   "outputs": [],
   "source": [
    "for x in test.get(\"tracks\").get(\"items\"):\n",
    "    print(x.get(\"name\"))\n",
    "    #for y in x:\n",
    "    #    print(y)"
   ]
  },
  {
   "cell_type": "code",
   "execution_count": null,
   "metadata": {},
   "outputs": [],
   "source": []
  }
 ],
 "metadata": {
  "kernelspec": {
   "display_name": "Python 3",
   "language": "python",
   "name": "python3"
  },
  "language_info": {
   "codemirror_mode": {
    "name": "ipython",
    "version": 3
   },
   "file_extension": ".py",
   "mimetype": "text/x-python",
   "name": "python",
   "nbconvert_exporter": "python",
   "pygments_lexer": "ipython3",
   "version": "3.7.0"
  }
 },
 "nbformat": 4,
 "nbformat_minor": 2
}
