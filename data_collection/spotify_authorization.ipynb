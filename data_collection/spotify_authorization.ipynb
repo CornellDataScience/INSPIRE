{
 "cells": [
  {
   "cell_type": "markdown",
   "metadata": {},
   "source": [
    "### Follow these instructions to set env variables. Only run once\n",
    "+ vim ~/.bash_profile\n",
    "+ press i to enter insert mode\n",
    "+ go to the bottom of the file and add these three lines:\n",
    "    - export SPOTIPY_CLIENT_ID = 'your_id'\n",
    "    - export SPOTIPY_CLIENT_SECRET = 'your_secret'\n",
    "    - export SPOTIPY_REDIRECT_URI = 'https://www.google.com'\n",
    "+ press escape and the type ':wq!' to save and exit \n",
    "+ run source ~/.bash_profile to update your environment\n",
    "+ You will need to shut down the jupyter notebook and restart your terminal to see the effects."
   ]
  },
  {
   "cell_type": "code",
   "execution_count": 28,
   "metadata": {},
   "outputs": [
    {
     "name": "stdout",
     "output_type": "stream",
     "text": [
      "BQB52G9hRyLki02L6jML0e0jOqP2rglTkf6HZMTmPszd3r4EOFKmvRSvD58slBwvvFKeQMNY5u9gQi2Jb8MqUFn9cgMj3kSrajfxeoEdFahB4IGDa37y9USeS8AEajlBdN6e9l-LVAoZj1n3hvF9KNnKDhnOZBk\n"
     ]
    }
   ],
   "source": [
    "import os\n",
    "import spotipy\n",
    "import spotipy.util as util\n",
    "\n",
    "scope = 'user-library-read'\n",
    "token = util.prompt_for_user_token(username=os.environ['SPOTIPY_USERNAME'],scope,client_id=os.environ['SPOTIPY_CLIENT_ID'],client_secret=os.environ['SPOTIPY_CLIENT_SECRET'],redirect_uri=os.environ['SPOTIPY_REDIRECT_URI'])\n",
    "# Grant permission by agreeing. The notebook will as you for the URI you were redirected to. Copy paste the URI\n",
    "# and enter it into the form below. It should look something like 'https://www.google.com/?code=AQC49zB_n...'\n",
    "print(token)\n"
   ]
  },
  {
   "cell_type": "markdown",
   "metadata": {},
   "source": [
    "### Add token to environment\n",
    "+ vim ~/.bash_profile\n",
    "+ press i to enter insert mode\n",
    "+ go to the bottom of the file and add these three lines:\n",
    "    - export SPOTIPY_TOKEN='your_token'\n",
    "+ press escape and the type ':wq!' to save and exit \n",
    "+ run source ~/.bash_profile to update your environment\n",
    "+ You will need to shut down the jupyter notebook and restart your terminal to see the effects."
   ]
  },
  {
   "cell_type": "code",
   "execution_count": 29,
   "metadata": {
    "collapsed": true
   },
   "outputs": [],
   "source": [
    "# Next time you make a spotify object, you can just do:\n",
    "sp = spotipy.Spotify(auth=token)"
   ]
  },
  {
   "cell_type": "code",
   "execution_count": 30,
   "metadata": {},
   "outputs": [
    {
     "name": "stdout",
     "output_type": "stream",
     "text": [
      "toplists\n",
      "pop\n",
      "mood\n",
      "edm_dance\n",
      "decades\n",
      "hiphop\n",
      "chill\n",
      "workout\n",
      "party\n",
      "focus\n",
      "sleep\n",
      "rock\n",
      "dinner\n",
      "jazz\n",
      "rnb\n",
      "romance\n",
      "indie_alt\n",
      "gaming\n",
      "soul\n",
      "classical\n"
     ]
    }
   ],
   "source": [
    "categories = sp.categories()\n",
    "for category in categories['categories']['items']:\n",
    "    print(category['id'])"
   ]
  },
  {
   "cell_type": "code",
   "execution_count": 31,
   "metadata": {},
   "outputs": [
    {
     "name": "stdout",
     "output_type": "stream",
     "text": [
      "37i9dQZF1DXcBWIGoYBM5M\n",
      "37i9dQZF1DX0XUsuxWHRQd\n",
      "37i9dQZF1DXcF6B6QPhFDv\n",
      "37i9dQZF1DX4dyzvuaRJ0n\n",
      "37i9dQZF1DX1lVhptIYRda\n",
      "37i9dQZF1DX10zKzsJ2jva\n",
      "37i9dQZF1DX4SBhb3fqCJd\n",
      "37i9dQZF1DX44t7uCdkV1A\n",
      "37i9dQZEVXbLRQDuF5jeBp\n",
      "37i9dQZEVXbMDoHDwVN2tF\n",
      "37i9dQZEVXbLiRSasKsNU9\n",
      "37i9dQZEVXbKuaTI1Z1Afx\n",
      "37i9dQZF1DX4JAvHpjipBk\n",
      "37i9dQZF1DX6P1Nsk3wSZX\n"
     ]
    }
   ],
   "source": [
    "category_playlists = sp.category_playlists('toplists')\n",
    "\n",
    "for playlist in category_playlists['playlists']['items']:\n",
    "    playlist_id = playlist['id']\n",
    "    print(playlist_id)"
   ]
  },
  {
   "cell_type": "code",
   "execution_count": null,
   "metadata": {},
   "outputs": [],
   "source": [
    "test = sp.search(\"Summer\")"
   ]
  },
  {
   "cell_type": "code",
   "execution_count": null,
   "metadata": {},
   "outputs": [],
   "source": [
    "for x in test:\n",
    "    \n",
    "    for y in test.get(x):\n",
    "        print(y)"
   ]
  },
  {
   "cell_type": "code",
   "execution_count": null,
   "metadata": {},
   "outputs": [],
   "source": [
    "for x in test.get(\"tracks\").get(\"items\"):\n",
    "    print(x.get(\"name\"))\n",
    "    #for y in x:\n",
    "    #    print(y)"
   ]
  },
  {
   "cell_type": "code",
   "execution_count": null,
   "metadata": {},
   "outputs": [],
   "source": []
  }
 ],
 "metadata": {
  "kernelspec": {
   "display_name": "Python 3",
   "language": "python",
   "name": "python3"
  },
  "language_info": {
   "codemirror_mode": {
    "name": "ipython",
    "version": 3
   },
   "file_extension": ".py",
   "mimetype": "text/x-python",
   "name": "python",
   "nbconvert_exporter": "python",
   "pygments_lexer": "ipython3",
   "version": "3.7.0"
  }
 },
 "nbformat": 4,
 "nbformat_minor": 2
}
