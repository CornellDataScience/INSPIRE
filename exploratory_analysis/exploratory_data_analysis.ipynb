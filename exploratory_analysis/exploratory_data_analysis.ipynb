{
 "cells": [
  {
   "cell_type": "code",
   "execution_count": 279,
   "metadata": {},
   "outputs": [],
   "source": [
    "import json\n",
    "import spotipy\n",
    "import matplotlib.pyplot as plt\n",
    "import seaborn as sns\n",
    "import numpy as np\n",
    "from numpy import polynomial\n",
    "\n",
    "import time\n",
    "from scipy import interpolate\n",
    "from scipy.interpolate import UnivariateSpline\n",
    "from scipy.interpolate import InterpolatedUnivariateSpline\n",
    "import similaritymeasures"
   ]
  },
  {
   "cell_type": "code",
   "execution_count": 2,
   "metadata": {
    "collapsed": true
   },
   "outputs": [],
   "source": [
    "with open('../data/pop_track_id_features_and_analysis.json') as f:\n",
    "    features_and_analysis = json.load(f)"
   ]
  },
  {
   "cell_type": "code",
   "execution_count": 3,
   "metadata": {
    "collapsed": true
   },
   "outputs": [],
   "source": [
    "song_ids = features_and_analysis.keys()"
   ]
  },
  {
   "cell_type": "code",
   "execution_count": 4,
   "metadata": {
    "collapsed": true
   },
   "outputs": [],
   "source": [
    "song_ids_list = list(song_ids)"
   ]
  },
  {
   "cell_type": "code",
   "execution_count": 5,
   "metadata": {},
   "outputs": [
    {
     "name": "stdout",
     "output_type": "stream",
     "text": [
      "{'danceability': 0.443, 'energy': 0.558, 'key': 0, 'loudness': -5.436, 'mode': 1, 'speechiness': 0.0624, 'acousticness': 0.441, 'instrumentalness': 0, 'liveness': 0.163, 'valence': 0.248, 'tempo': 116.838, 'type': 'audio_features', 'id': '15O20RQyWJgKrkHID9ynT9', 'uri': 'spotify:track:15O20RQyWJgKrkHID9ynT9', 'track_href': 'https://api.spotify.com/v1/tracks/15O20RQyWJgKrkHID9ynT9', 'analysis_url': 'https://api.spotify.com/v1/audio-analysis/15O20RQyWJgKrkHID9ynT9', 'duration_ms': 233337, 'time_signature': 4}\n"
     ]
    }
   ],
   "source": [
    "# Features, type is list\n",
    "print(features_and_analysis['15O20RQyWJgKrkHID9ynT9'][0][0])"
   ]
  },
  {
   "cell_type": "code",
   "execution_count": 6,
   "metadata": {},
   "outputs": [
    {
     "name": "stdout",
     "output_type": "stream",
     "text": [
      "dict_keys(['meta', 'track', 'bars', 'beats', 'tatums', 'sections', 'segments'])\n",
      "TRACK\n",
      "{'num_samples': 5145082, 'duration': 233.33705, 'sample_md5': '', 'offset_seconds': 0, 'window_seconds': 0, 'analysis_sample_rate': 22050, 'analysis_channels': 1, 'end_of_fade_in': 0.0, 'start_of_fade_out': 230.29551, 'loudness': -5.436, 'tempo': 116.838, 'tempo_confidence': 0.048, 'time_signature': 4, 'time_signature_confidence': 0.989, 'key': 0, 'key_confidence': 0.581, 'mode': 1, 'mode_confidence': 0.588, 'code_version': 3.15, 'echoprint_version': 4.12, 'synch_version': 1.0, 'rhythm_version': 1.0}\n",
      "BARS\n",
      "[{'start': 0.0, 'duration': 7.55561, 'confidence': 1.0, 'loudness': -18.004, 'tempo': 113.228, 'tempo_confidence': 0.219, 'key': 0, 'key_confidence': 0.0, 'mode': 1, 'mode_confidence': 0.0, 'time_signature': 4, 'time_signature_confidence': 0.7}, {'start': 7.55561, 'duration': 32.87778, 'confidence': 1.0, 'loudness': -9.152, 'tempo': 114.553, 'tempo_confidence': 0.291, 'key': 0, 'key_confidence': 0.0, 'mode': 1, 'mode_confidence': 0.0, 'time_signature': 4, 'time_signature_confidence': 1.0}, {'start': 40.43339, 'duration': 12.73729, 'confidence': 0.243, 'loudness': -4.333, 'tempo': 113.793, 'tempo_confidence': 0.434, 'key': 0, 'key_confidence': 0.68, 'mode': 1, 'mode_confidence': 0.598, 'time_signature': 4, 'time_signature_confidence': 0.8}, {'start': 53.17068, 'duration': 15.84218, 'confidence': 0.004, 'loudness': -4.328, 'tempo': 111.501, 'tempo_confidence': 0.404, 'key': 5, 'key_confidence': 0.242, 'mode': 1, 'mode_confidence': 0.224, 'time_signature': 1, 'time_signature_confidence': 0.682}, {'start': 69.01286, 'duration': 21.26858, 'confidence': 0.104, 'loudness': -5.584, 'tempo': 106.371, 'tempo_confidence': 0.553, 'key': 0, 'key_confidence': 0.673, 'mode': 1, 'mode_confidence': 0.627, 'time_signature': 1, 'time_signature_confidence': 0.774}, {'start': 90.28144, 'duration': 15.5508, 'confidence': 0.441, 'loudness': -4.524, 'tempo': 118.709, 'tempo_confidence': 0.436, 'key': 10, 'key_confidence': 0.01, 'mode': 1, 'mode_confidence': 0.136, 'time_signature': 4, 'time_signature_confidence': 0.696}, {'start': 105.83224, 'duration': 13.46967, 'confidence': 0.079, 'loudness': -4.257, 'tempo': 119.775, 'tempo_confidence': 0.492, 'key': 0, 'key_confidence': 0.077, 'mode': 1, 'mode_confidence': 0.432, 'time_signature': 4, 'time_signature_confidence': 1.0}, {'start': 119.3019, 'duration': 18.11238, 'confidence': 0.305, 'loudness': -4.959, 'tempo': 120.752, 'tempo_confidence': 0.462, 'key': 0, 'key_confidence': 0.617, 'mode': 1, 'mode_confidence': 0.547, 'time_signature': 4, 'time_signature_confidence': 0.939}, {'start': 137.41429, 'duration': 22.17778, 'confidence': 0.702, 'loudness': -7.384, 'tempo': 125.949, 'tempo_confidence': 0.282, 'key': 0, 'key_confidence': 0.386, 'mode': 1, 'mode_confidence': 0.565, 'time_signature': 4, 'time_signature_confidence': 0.357}, {'start': 159.59206, 'duration': 7.24021, 'confidence': 0.499, 'loudness': -5.113, 'tempo': 123.746, 'tempo_confidence': 0.274, 'key': 10, 'key_confidence': 0.299, 'mode': 1, 'mode_confidence': 0.582, 'time_signature': 4, 'time_signature_confidence': 1.0}, {'start': 166.83227, 'duration': 34.21456, 'confidence': 0.628, 'loudness': -4.777, 'tempo': 120.607, 'tempo_confidence': 0.434, 'key': 0, 'key_confidence': 0.584, 'mode': 1, 'mode_confidence': 0.561, 'time_signature': 4, 'time_signature_confidence': 0.922}, {'start': 201.04683, 'duration': 32.29022, 'confidence': 0.51, 'loudness': -4.717, 'tempo': 120.296, 'tempo_confidence': 0.331, 'key': 0, 'key_confidence': 0.755, 'mode': 1, 'mode_confidence': 0.617, 'time_signature': 4, 'time_signature_confidence': 1.0}]\n"
     ]
    }
   ],
   "source": [
    "# Analysis, type is dictionary\n",
    "print(features_and_analysis['15O20RQyWJgKrkHID9ynT9'][1].keys())\n",
    "print(\"TRACK\")\n",
    "print(features_and_analysis['15O20RQyWJgKrkHID9ynT9'][1]['track'])\n",
    "\n",
    "print(\"BARS\")\n",
    "print(features_and_analysis['15O20RQyWJgKrkHID9ynT9'][1]['sections'])\n"
   ]
  },
  {
   "cell_type": "code",
   "execution_count": 7,
   "metadata": {
    "collapsed": true
   },
   "outputs": [],
   "source": [
    "def compare_bars_of_two_songs(song_id_1, song_id_2, features_and_analysis):\n",
    "    song_1_bars = features_and_analysis[song_id_1][1]['bars']\n",
    "    song_2_bars = features_and_analysis[song_id_2][1]['bars']\n",
    "    \n",
    "    num_bars_1 = len(song_1_bars)\n",
    "    num_bars_2 = len(song_2_bars)\n",
    "    \n",
    "    durations_bars_1 = [bar['duration'] for bar in song_1_bars]\n",
    "    durations_bars_2 = [bar['duration'] for bar in song_2_bars]\n",
    "    \n",
    "    print(\"number of bars in song 1: \", num_bars_1)\n",
    "    print(\"number of bars in song 2: \", num_bars_2)\n",
    "    \n",
    "    print(\"Average duration of bars in song 1: \", sum(durations_bars_1) / len(durations_bars_1))\n",
    "    print(\"Average duration of bars in song 2: \", sum(durations_bars_2) / len(durations_bars_2))\n"
   ]
  },
  {
   "cell_type": "code",
   "execution_count": 8,
   "metadata": {},
   "outputs": [
    {
     "name": "stdout",
     "output_type": "stream",
     "text": [
      "number of bars in song 1:  114\n",
      "number of bars in song 2:  95\n",
      "Average duration of bars in song 1:  2.016471140350877\n",
      "Average duration of bars in song 2:  2.411837052631579\n"
     ]
    }
   ],
   "source": [
    "compare_bars_of_two_songs(song_ids_list[0],song_ids_list[1], features_and_analysis)"
   ]
  },
  {
   "cell_type": "code",
   "execution_count": 9,
   "metadata": {
    "collapsed": true
   },
   "outputs": [],
   "source": [
    "def compare_loudness_of_two_songs(song_id_1, song_id_2, features_and_analysis):\n",
    "    song_1_sections = features_and_analysis[song_id_1][1]['sections']\n",
    "    song_2_sections = features_and_analysis[song_id_2][1]['sections']\n",
    "    start_duration_loudness_1 = [(section['start'], section['duration'], section['loudness']) for section in song_1_sections]\n",
    "    start_duration_loudness_2 = [(section['start'], section['duration'], section['loudness']) for section in song_2_sections]\n",
    "\n",
    "    x_1 = [start for (start,_,_) in start_duration_loudness_1] \n",
    "    x_1 = [max(x_1) - start for start in x_1]\n",
    "    y_1 = [-1 * loudness for (_,_,loudness) in start_duration_loudness_1]\n",
    "    \n",
    "    x_2 = [start for (start,_,_) in start_duration_loudness_2] \n",
    "    x_2 = [max(x_2) - start for start in x_2]\n",
    "    y_2 = [-1 * loudness for (_,_,loudness) in start_duration_loudness_2]\n",
    "   \n",
    "    sns.lineplot(x_1,y_1, label=\"song_1\")\n",
    "    sns.lineplot(x_2,y_2, label=\"song_2\")\n",
    "    plt.xlabel(\"Time in seconds\")\n",
    "    plt.ylabel(\"Loudness\")\n",
    "    plt.show()\n",
    "    "
   ]
  },
  {
   "cell_type": "code",
   "execution_count": 10,
   "metadata": {},
   "outputs": [
    {
     "data": {
      "image/png": "[encoded data removed]",
      "text/plain": [
       "<matplotlib.figure.Figure at 0x1073846d8>"
      ]
     },
     "metadata": {},
     "output_type": "display_data"
    }
   ],
   "source": [
    "compare_loudness_of_two_songs(song_ids_list[0], song_ids_list[10], features_and_analysis)"
   ]
  },
  {
   "cell_type": "code",
   "execution_count": 11,
   "metadata": {
    "collapsed": true
   },
   "outputs": [],
   "source": [
    "def compare_tempo_of_two_songs(song_id_1, song_id_2, features_and_analysis):\n",
    "    song_1_sections = features_and_analysis[song_id_1][1]['sections']\n",
    "    song_2_sections = features_and_analysis[song_id_2][1]['sections']\n",
    "    start_duration_tempo_1 = [(section['start'], section['duration'], section['tempo']) for section in song_1_sections]\n",
    "    start_duration_tempo_2 = [(section['start'], section['duration'], section['tempo']) for section in song_2_sections]\n",
    "\n",
    "    x_1 = [start for (start,_,_) in start_duration_tempo_1] \n",
    "    x_1 = [max(x_1) - start for start in x_1]\n",
    "    y_1 = [tempo for (_,_,tempo) in start_duration_tempo_1]\n",
    "    \n",
    "    x_2 = [start for (start,_,_) in start_duration_tempo_2] \n",
    "    x_2 = [max(x_2) - start for start in x_2]\n",
    "    y_2 = [tempo for (_,_,tempo) in start_duration_tempo_2]\n",
    "   \n",
    "    sns.lineplot(x_1,y_1, label=\"song_1\")\n",
    "    sns.lineplot(x_2,y_2, label=\"song_2\")\n",
    "    plt.xlabel(\"Time in seconds\")\n",
    "    plt.ylabel(\"tempo\")\n",
    "    plt.show()\n",
    "    "
   ]
  },
  {
   "cell_type": "code",
   "execution_count": 26,
   "metadata": {},
   "outputs": [
    {
     "data": {
      "image/png": "[encoded data removed]",
      "text/plain": [
       "<matplotlib.figure.Figure at 0x152f18908>"
      ]
     },
     "metadata": {},
     "output_type": "display_data"
    }
   ],
   "source": [
    "compare_tempo_of_two_songs(song_ids_list[1200], song_ids_list[1200], features_and_analysis)"
   ]
  },
  {
   "cell_type": "code",
   "execution_count": 34,
   "metadata": {
    "collapsed": true
   },
   "outputs": [],
   "source": [
    "def get_curve_for_tempo(song_id_1, features_and_analysis):\n",
    "    song_1_sections = features_and_analysis[song_id_1][1]['sections']\n",
    "    start_duration_tempo_1 = [(section['start'], section['duration'], section['tempo']) for section in song_1_sections]\n",
    "\n",
    "    x = [start for (start,_,_) in start_duration_tempo_1] \n",
    "    y = [tempo for (_,_,tempo) in start_duration_tempo_1]\n",
    "#     print(len(x))\n",
    "    \n",
    "#     z = np.polyfit(x, y, 9)\n",
    "#     f = np.poly1d(z)  \n",
    "#     x_new = np.linspace(x[0], x[-1], 100)\n",
    "#     y_new = f(x_new)\n",
    "\n",
    "#     plt.plot(x_new, y_new, 'o')\n",
    "#     plt.xlim([x[0]-10, x[-1] + 10 ])\n",
    "    spl = InterpolatedUnivariateSpline(x, y)\n",
    "    xs = np.linspace(x[0], x[-1], 1000)\n",
    "    spl.set_smoothing_factor(0.02)\n",
    "    plt.plot(xs, spl(xs), 'g', lw=3)\n",
    "    print(spl.integral(0, 50))\n",
    "    \n",
    "    sns.lineplot(x,y, label=\"song_1\")\n",
    "    plt.xlabel(\"Time in seconds\")\n",
    "    plt.ylabel(\"tempo\")\n",
    "    plt.show()\n",
    "    "
   ]
  },
  {
   "cell_type": "code",
   "execution_count": 35,
   "metadata": {},
   "outputs": [
    {
     "name": "stdout",
     "output_type": "stream",
     "text": [
      "7804.873101258625\n"
     ]
    },
    {
     "data": {
      "image/png": "[encoded data removed]",
      "text/plain": [
       "<matplotlib.figure.Figure at 0x1073fe9e8>"
      ]
     },
     "metadata": {},
     "output_type": "display_data"
    }
   ],
   "source": [
    "get_curve_for_tempo(song_ids_list[2], features_and_analysis)"
   ]
  },
  {
   "cell_type": "code",
   "execution_count": 27,
   "metadata": {},
   "outputs": [
    {
     "name": "stdout",
     "output_type": "stream",
     "text": [
      "17.81470247419197\n"
     ]
    },
    {
     "data": {
      "image/png": "[encoded data removed]",
      "text/plain": [
       "<matplotlib.figure.Figure at 0x152fca080>"
      ]
     },
     "metadata": {},
     "output_type": "display_data"
    }
   ],
   "source": [
    "x = [0, 1, 2, 3, 4, 5]\n",
    "y = [0, 4, 5, 6, 2, 1]\n",
    "spl = InterpolatedUnivariateSpline(x, y)\n",
    "xs = np.linspace(x[0], x[-1], 100)\n",
    "spl.set_smoothing_factor(1)\n",
    "plt.plot(xs, spl(xs), 'g', lw=3)\n",
    "print(spl.integral(x[0], x[-1]))\n",
    "\n",
    "sns.lineplot(x,y, label=\"song_1\")\n",
    "plt.xlabel(\"Time in seconds\")\n",
    "plt.ylabel(\"tempo\")\n",
    "plt.show()"
   ]
  },
  {
   "cell_type": "code",
   "execution_count": 219,
   "metadata": {},
   "outputs": [],
   "source": [
    "def find_most_similar_tempo_song(song_id_1, features_and_analysis):\n",
    "    print(len(song_ids_list))\n",
    "    start_time = time.time()\n",
    "    most_similar = None\n",
    "    song_1_sections = features_and_analysis[song_id_1][1]['sections']\n",
    "    start_duration_tempo_1 = [(section['start'], section['duration'], section['tempo']) for section in song_1_sections]\n",
    "    x_1 = [start for (start,_,_) in start_duration_tempo_1] \n",
    "    y_1 = [tempo for (_,_,tempo) in start_duration_tempo_1]\n",
    "    x_1 = np.interp(x_1, (np.min(x_1), np.max(x_1)), (0, 100))\n",
    "    \n",
    "    xs = np.linspace(x_1[0], x_1[-1], 30)\n",
    "    spl_1 = InterpolatedUnivariateSpline(x_1, y_1)\n",
    "    spl_1.set_smoothing_factor(0.1)\n",
    "    spl_y_1 = spl_1(xs)\n",
    "    \n",
    "    curve_1_data = np.zeros((30, 2))\n",
    "    curve_1_data[:, 0] = xs\n",
    "    curve_1_data[:, 1] = spl_y_1\n",
    "    \n",
    "    \n",
    "\n",
    "    similarities = []\n",
    "    start_time = time.time()\n",
    "    for song_id_2 in song_ids_list:\n",
    "        song_2_sections = features_and_analysis[song_id_2][1]['sections']\n",
    "        start_duration_tempo_2 = [(section['start'], section['duration'], section['tempo']) for section in song_2_sections]\n",
    "        x_2 = [start for (start,_,_) in start_duration_tempo_2] \n",
    "        y_2 = [tempo for (_,_,tempo) in start_duration_tempo_2]\n",
    "        x_2 = np.interp(x_2, (np.min(x_2), np.max(x_2)), (0, 100))\n",
    "        try:\n",
    "            spl_2 = InterpolatedUnivariateSpline(x_2, y_2)\n",
    "            spl_2.set_smoothing_factor(0.1)\n",
    "\n",
    "\n",
    "\n",
    "            spl_y_2 = spl_2(xs)\n",
    "            curve_2_data = np.zeros((30, 2))\n",
    "            curve_2_data[:, 0] = xs\n",
    "            curve_2_data[:, 1] = spl_y_2\n",
    "\n",
    "\n",
    "            distance_frechet = similaritymeasures.frechet_dist(curve_1_data, curve_2_data)\n",
    "            similarities.append((song_id_2, distance_frechet))\n",
    "        except Exception as e:\n",
    "            print(\"unable to process song: \", song_id_2)\n",
    "\n",
    "    time_elapsed = time.time() - start_time\n",
    "    print(\"Distance dtw--- %s seconds ---\" % (time_elapsed))\n",
    "    print(len(similarities))\n",
    "    print(time_elapsed/len(similarities))\n",
    "    \n",
    "    similarities = sorted(similarities, key=lambda tup: tup[1], reverse = False)\n",
    "    print(similarities[0:10])\n",
    "    \n",
    "    \n",
    "#     start_time = time.time()\n",
    "#     distance_pcm = similaritymeasures.pcm(curve_1_data, curve_2_data)\n",
    "#     print(\"Distance PCM --- %s seconds ---\" % (time.time() - start_time))\n",
    "#     print(distance_pcm)\n",
    "#     print(\"\\n\")\n",
    "    \n",
    "#     start_time = time.time()\n",
    "#     distance_area_between_two_curves = similaritymeasures.area_between_two_curves(curve_1_data, curve_2_data)\n",
    "#     print(\"Distance Area --- %s seconds ---\" % (time.time() - start_time))\n",
    "#     print(distance_area_between_two_curves)\n",
    "#     print(\"\\n\")\n",
    "    \n",
    "#     start_time = time.time()\n",
    "#     distance_curve_length_measure = similaritymeasures.curve_length_measure(curve_1_data, curve_2_data)\n",
    "#     print(\"Distance curve length --- %s seconds ---\" % (time.time() - start_time))\n",
    "#     print(distance_curve_length_measure)\n",
    "#     print(\"\\n\")\n",
    "    \n",
    "#     start_time = time.time()\n",
    "#     distance_dtw, _ = similaritymeasures.dtw(curve_1_data, curve_2_data)\n",
    "#     print(\"Distance DTW--- %s seconds ---\" % (time.time() - start_time))\n",
    "#     print(distance_dtw)\n",
    "    \n",
    "    \n",
    "#     plt.plot(xs, spl_1(xs), 'g', lw=3)\n",
    "#     plt.plot(xs, spl_2(xs), 'y', lw=3)\n",
    "#     sns.lineplot(x_1,y_1, label=\"song_1\")\n",
    "#     sns.lineplot(x_2,y_2, label=\"song_2\")\n",
    "#     plt.xlabel(\"Time in seconds\")\n",
    "#     plt.ylabel(\"tempo\")\n",
    "#     plt.show()"
   ]
  },
  {
   "cell_type": "code",
   "execution_count": 220,
   "metadata": {},
   "outputs": [
    {
     "name": "stdout",
     "output_type": "stream",
     "text": [
      "2556\n"
     ]
    },
    {
     "name": "stderr",
     "output_type": "stream",
     "text": [
      "/Users/jimmychen/anaconda3/lib/python3.6/site-packages/scipy/interpolate/fitpack2.py:226: UserWarning: \n",
      "The maximal number of iterations maxit (set to 20 by the program)\n",
      "allowed for finding a smoothing spline with fp=s has been reached: s\n",
      "too small.\n",
      "There is an approximation returned but the corresponding weighted sum\n",
      "of squared residuals does not satisfy the condition abs(fp-s)/s < tol.\n",
      "  warnings.warn(message)\n",
      "/Users/jimmychen/anaconda3/lib/python3.6/site-packages/scipy/interpolate/fitpack2.py:226: UserWarning: \n",
      "The maximal number of iterations maxit (set to 20 by the program)\n",
      "allowed for finding a smoothing spline with fp=s has been reached: s\n",
      "too small.\n",
      "There is an approximation returned but the corresponding weighted sum\n",
      "of squared residuals does not satisfy the condition abs(fp-s)/s < tol.\n",
      "  warnings.warn(message)\n",
      "/Users/jimmychen/anaconda3/lib/python3.6/site-packages/scipy/interpolate/fitpack2.py:226: UserWarning: \n",
      "The maximal number of iterations maxit (set to 20 by the program)\n",
      "allowed for finding a smoothing spline with fp=s has been reached: s\n",
      "too small.\n",
      "There is an approximation returned but the corresponding weighted sum\n",
      "of squared residuals does not satisfy the condition abs(fp-s)/s < tol.\n",
      "  warnings.warn(message)\n",
      "/Users/jimmychen/anaconda3/lib/python3.6/site-packages/scipy/interpolate/fitpack2.py:226: UserWarning: \n",
      "The maximal number of iterations maxit (set to 20 by the program)\n",
      "allowed for finding a smoothing spline with fp=s has been reached: s\n",
      "too small.\n",
      "There is an approximation returned but the corresponding weighted sum\n",
      "of squared residuals does not satisfy the condition abs(fp-s)/s < tol.\n",
      "  warnings.warn(message)\n",
      "/Users/jimmychen/anaconda3/lib/python3.6/site-packages/scipy/interpolate/fitpack2.py:226: UserWarning: \n",
      "The maximal number of iterations maxit (set to 20 by the program)\n",
      "allowed for finding a smoothing spline with fp=s has been reached: s\n",
      "too small.\n",
      "There is an approximation returned but the corresponding weighted sum\n",
      "of squared residuals does not satisfy the condition abs(fp-s)/s < tol.\n",
      "  warnings.warn(message)\n",
      "/Users/jimmychen/anaconda3/lib/python3.6/site-packages/scipy/interpolate/fitpack2.py:226: UserWarning: \n",
      "The maximal number of iterations maxit (set to 20 by the program)\n",
      "allowed for finding a smoothing spline with fp=s has been reached: s\n",
      "too small.\n",
      "There is an approximation returned but the corresponding weighted sum\n",
      "of squared residuals does not satisfy the condition abs(fp-s)/s < tol.\n",
      "  warnings.warn(message)\n",
      "/Users/jimmychen/anaconda3/lib/python3.6/site-packages/scipy/interpolate/fitpack2.py:226: UserWarning: \n",
      "The maximal number of iterations maxit (set to 20 by the program)\n",
      "allowed for finding a smoothing spline with fp=s has been reached: s\n",
      "too small.\n",
      "There is an approximation returned but the corresponding weighted sum\n",
      "of squared residuals does not satisfy the condition abs(fp-s)/s < tol.\n",
      "  warnings.warn(message)\n",
      "/Users/jimmychen/anaconda3/lib/python3.6/site-packages/scipy/interpolate/fitpack2.py:226: UserWarning: \n",
      "The maximal number of iterations maxit (set to 20 by the program)\n",
      "allowed for finding a smoothing spline with fp=s has been reached: s\n",
      "too small.\n",
      "There is an approximation returned but the corresponding weighted sum\n",
      "of squared residuals does not satisfy the condition abs(fp-s)/s < tol.\n",
      "  warnings.warn(message)\n",
      "/Users/jimmychen/anaconda3/lib/python3.6/site-packages/scipy/interpolate/fitpack2.py:226: UserWarning: \n",
      "The maximal number of iterations maxit (set to 20 by the program)\n",
      "allowed for finding a smoothing spline with fp=s has been reached: s\n",
      "too small.\n",
      "There is an approximation returned but the corresponding weighted sum\n",
      "of squared residuals does not satisfy the condition abs(fp-s)/s < tol.\n",
      "  warnings.warn(message)\n",
      "/Users/jimmychen/anaconda3/lib/python3.6/site-packages/scipy/interpolate/fitpack2.py:226: UserWarning: \n",
      "The maximal number of iterations maxit (set to 20 by the program)\n",
      "allowed for finding a smoothing spline with fp=s has been reached: s\n",
      "too small.\n",
      "There is an approximation returned but the corresponding weighted sum\n",
      "of squared residuals does not satisfy the condition abs(fp-s)/s < tol.\n",
      "  warnings.warn(message)\n",
      "/Users/jimmychen/anaconda3/lib/python3.6/site-packages/scipy/interpolate/fitpack2.py:226: UserWarning: \n",
      "The maximal number of iterations maxit (set to 20 by the program)\n",
      "allowed for finding a smoothing spline with fp=s has been reached: s\n",
      "too small.\n",
      "There is an approximation returned but the corresponding weighted sum\n",
      "of squared residuals does not satisfy the condition abs(fp-s)/s < tol.\n",
      "  warnings.warn(message)\n"
     ]
    },
    {
     "name": "stdout",
     "output_type": "stream",
     "text": [
      "unable to process song:  1est72o2prNA80flC5ncoN\n"
     ]
    },
    {
     "name": "stderr",
     "output_type": "stream",
     "text": [
      "/Users/jimmychen/anaconda3/lib/python3.6/site-packages/scipy/interpolate/fitpack2.py:226: UserWarning: \n",
      "The maximal number of iterations maxit (set to 20 by the program)\n",
      "allowed for finding a smoothing spline with fp=s has been reached: s\n",
      "too small.\n",
      "There is an approximation returned but the corresponding weighted sum\n",
      "of squared residuals does not satisfy the condition abs(fp-s)/s < tol.\n",
      "  warnings.warn(message)\n",
      "/Users/jimmychen/anaconda3/lib/python3.6/site-packages/scipy/interpolate/fitpack2.py:226: UserWarning: \n",
      "The maximal number of iterations maxit (set to 20 by the program)\n",
      "allowed for finding a smoothing spline with fp=s has been reached: s\n",
      "too small.\n",
      "There is an approximation returned but the corresponding weighted sum\n",
      "of squared residuals does not satisfy the condition abs(fp-s)/s < tol.\n",
      "  warnings.warn(message)\n",
      "/Users/jimmychen/anaconda3/lib/python3.6/site-packages/scipy/interpolate/fitpack2.py:226: UserWarning: \n",
      "The maximal number of iterations maxit (set to 20 by the program)\n",
      "allowed for finding a smoothing spline with fp=s has been reached: s\n",
      "too small.\n",
      "There is an approximation returned but the corresponding weighted sum\n",
      "of squared residuals does not satisfy the condition abs(fp-s)/s < tol.\n",
      "  warnings.warn(message)\n"
     ]
    },
    {
     "name": "stdout",
     "output_type": "stream",
     "text": [
      "unable to process song:  577YBGuskWkVDCxZrLRB4v\n",
      "unable to process song:  5JW8njiQorZ7m2VHYddTt6\n"
     ]
    },
    {
     "name": "stderr",
     "output_type": "stream",
     "text": [
      "/Users/jimmychen/anaconda3/lib/python3.6/site-packages/scipy/interpolate/fitpack2.py:226: UserWarning: \n",
      "The maximal number of iterations maxit (set to 20 by the program)\n",
      "allowed for finding a smoothing spline with fp=s has been reached: s\n",
      "too small.\n",
      "There is an approximation returned but the corresponding weighted sum\n",
      "of squared residuals does not satisfy the condition abs(fp-s)/s < tol.\n",
      "  warnings.warn(message)\n"
     ]
    },
    {
     "name": "stdout",
     "output_type": "stream",
     "text": [
      "unable to process song:  2sa35Fu5jG7UBb82NVZWMm\n"
     ]
    },
    {
     "name": "stderr",
     "output_type": "stream",
     "text": [
      "/Users/jimmychen/anaconda3/lib/python3.6/site-packages/scipy/interpolate/fitpack2.py:226: UserWarning: \n",
      "The maximal number of iterations maxit (set to 20 by the program)\n",
      "allowed for finding a smoothing spline with fp=s has been reached: s\n",
      "too small.\n",
      "There is an approximation returned but the corresponding weighted sum\n",
      "of squared residuals does not satisfy the condition abs(fp-s)/s < tol.\n",
      "  warnings.warn(message)\n",
      "/Users/jimmychen/anaconda3/lib/python3.6/site-packages/scipy/interpolate/fitpack2.py:226: UserWarning: \n",
      "The maximal number of iterations maxit (set to 20 by the program)\n",
      "allowed for finding a smoothing spline with fp=s has been reached: s\n",
      "too small.\n",
      "There is an approximation returned but the corresponding weighted sum\n",
      "of squared residuals does not satisfy the condition abs(fp-s)/s < tol.\n",
      "  warnings.warn(message)\n"
     ]
    },
    {
     "name": "stdout",
     "output_type": "stream",
     "text": [
      "unable to process song:  3PI9d61o3VO504SUAKw2cO\n"
     ]
    },
    {
     "name": "stderr",
     "output_type": "stream",
     "text": [
      "/Users/jimmychen/anaconda3/lib/python3.6/site-packages/scipy/interpolate/fitpack2.py:226: UserWarning: \n",
      "The maximal number of iterations maxit (set to 20 by the program)\n",
      "allowed for finding a smoothing spline with fp=s has been reached: s\n",
      "too small.\n",
      "There is an approximation returned but the corresponding weighted sum\n",
      "of squared residuals does not satisfy the condition abs(fp-s)/s < tol.\n",
      "  warnings.warn(message)\n",
      "/Users/jimmychen/anaconda3/lib/python3.6/site-packages/scipy/interpolate/fitpack2.py:226: UserWarning: \n",
      "The maximal number of iterations maxit (set to 20 by the program)\n",
      "allowed for finding a smoothing spline with fp=s has been reached: s\n",
      "too small.\n",
      "There is an approximation returned but the corresponding weighted sum\n",
      "of squared residuals does not satisfy the condition abs(fp-s)/s < tol.\n",
      "  warnings.warn(message)\n",
      "/Users/jimmychen/anaconda3/lib/python3.6/site-packages/scipy/interpolate/fitpack2.py:226: UserWarning: \n",
      "The maximal number of iterations maxit (set to 20 by the program)\n",
      "allowed for finding a smoothing spline with fp=s has been reached: s\n",
      "too small.\n",
      "There is an approximation returned but the corresponding weighted sum\n",
      "of squared residuals does not satisfy the condition abs(fp-s)/s < tol.\n",
      "  warnings.warn(message)\n",
      "/Users/jimmychen/anaconda3/lib/python3.6/site-packages/scipy/interpolate/fitpack2.py:226: UserWarning: \n",
      "The maximal number of iterations maxit (set to 20 by the program)\n",
      "allowed for finding a smoothing spline with fp=s has been reached: s\n",
      "too small.\n",
      "There is an approximation returned but the corresponding weighted sum\n",
      "of squared residuals does not satisfy the condition abs(fp-s)/s < tol.\n",
      "  warnings.warn(message)\n"
     ]
    },
    {
     "name": "stdout",
     "output_type": "stream",
     "text": [
      "Distance dtw--- 28.701077938079834 seconds ---\n",
      "2551\n",
      "0.011250912559027767\n",
      "[('2PwXOevGUSkU8qaYZjgLq2', 0.0), ('6rDN0EFbzYRsIyrhEP4iad', 1733366.1146002116), ('6DXoRCLBJexf9tkA0Dh7aT', 1734032.4492179852), ('24jvD83UgLmrdGjhWTFslY', 1735494.932584101), ('2meEiZKWkiN28gITzFwQo5', 1735604.1900877103), ('4Gx4trpKEbcJy6JarDuNvR', 1735713.4780355224), ('1tT55K6VEyO6XFDxK4lDQe', 1735772.6167388256), ('1mSlftOO1dlDRXAyOE0Sbd', 1735773.018360836), ('5uIYONgpUQ7t0v7D6CTMBt', 1735786.8114381796), ('1jZhF1p0fLaVZHAyfjkumE', 1735787.3147303401)]\n"
     ]
    }
   ],
   "source": [
    "find_most_similar_tempo_song(song_ids_list[173], features_and_analysis)"
   ]
  },
  {
   "cell_type": "code",
   "execution_count": 294,
   "metadata": {},
   "outputs": [],
   "source": [
    "def compare_song_tempos(song_id_1, song_id_2, features_and_analysis):\n",
    "    song_1_sections = features_and_analysis[song_id_1][1]['sections']\n",
    "    start_duration_tempo_1 = [(section['start'], section['duration'], section['tempo']) for section in song_1_sections]\n",
    "    x_1 = [start for (start,_,_) in start_duration_tempo_1] \n",
    "    y_1 = [tempo for (_,_,tempo) in start_duration_tempo_1]\n",
    "    x_1 = np.interp(x_1, (np.min(x_1), np.max(x_1)), (0, 100))\n",
    "    \n",
    "    xs = np.linspace(x_1[0], x_1[-1],100)\n",
    "    spl_1 = interpolate.interp1d(x_1, y_1)\n",
    "    #spl_1.set_smoothing_factor(0.02)\n",
    "    spl_y_1 = spl_1(xs)\n",
    "    \n",
    "    curve_1_data = np.zeros((100, 2))\n",
    "    curve_1_data[:, 0] = xs\n",
    "    curve_1_data[:, 1] = spl_y_1\n",
    "    \n",
    "    \n",
    "    song_2_sections = features_and_analysis[song_id_2][1]['sections']\n",
    "    start_duration_tempo_2 = [(section['start'], section['duration'], section['tempo']) for section in song_2_sections]\n",
    "    x_2 = [start for (start,_,_) in start_duration_tempo_2] \n",
    "    y_2 = [tempo for (_,_,tempo) in start_duration_tempo_2]\n",
    "    x_2 = np.interp(x_2, (np.min(x_2), np.max(x_2)), (0, 100))\n",
    "    spl_2 = interpolate.interp1d(x_2, y_2)\n",
    "    #spl_2.set_smoothing_factor(0.2)\n",
    "\n",
    "    spl_y_2 = spl_2(xs)\n",
    "    curve_2_data = np.zeros((100, 2))\n",
    "    curve_2_data[:, 0] = xs\n",
    "    curve_2_data[:, 1] = spl_y_2\n",
    "\n",
    "\n",
    "    distance_frechet = similaritymeasures.frechet_dist(curve_1_data, curve_2_data)\n",
    "    print(distance_frechet)\n",
    "\n",
    "   \n",
    "    \n",
    "    \n",
    "    plt.plot(xs, spl_1(xs), 'g', lw=3)\n",
    "    plt.plot(xs, spl_2(xs), 'y', lw=3)\n",
    "    sns.lineplot(x_1,y_1, label=\"song_1\")\n",
    "    sns.lineplot(x_2,y_2, label=\"song_2\")\n",
    "    plt.xlabel(\"Time in seconds\")\n",
    "    plt.ylabel(\"tempo\")\n",
    "    plt.show()"
   ]
  },
  {
   "cell_type": "code",
   "execution_count": 295,
   "metadata": {},
   "outputs": [
    {
     "name": "stdout",
     "output_type": "stream",
     "text": [
      "23.592\n"
     ]
    },
    {
     "data": {
      "image/png": "[encoded data removed]",
      "text/plain": [
       "<matplotlib.figure.Figure at 0x1549f1358>"
      ]
     },
     "metadata": {},
     "output_type": "display_data"
    }
   ],
   "source": [
    "compare_song_tempos(song_ids_list[171], '2meEiZKWkiN28gITzFwQo5', features_and_analysis)"
   ]
  },
  {
   "cell_type": "code",
   "execution_count": 190,
   "metadata": {
    "collapsed": true
   },
   "outputs": [],
   "source": [
    "def find_most_similar_median_tempo_song(song_id_1, features_and_analysis):\n",
    "    start_time = time.time()\n",
    "    song_1_sections = features_and_analysis[song_id_1][1]['sections']\n",
    "    start_duration_tempo_1 = [(section['start'], section['duration'], section['tempo']) for section in song_1_sections]\n",
    "    y_1 = [tempo for (_,_,tempo) in start_duration_tempo_1]\n",
    "    median_tempo_1 = np.median(y_1)\n",
    "    \n",
    "    \n",
    "\n",
    "    similarities = []\n",
    "    for song_id_2 in song_ids_list:\n",
    "        song_2_sections = features_and_analysis[song_id_2][1]['sections']\n",
    "        start_duration_tempo_2 = [(section['start'], section['duration'], section['tempo']) for section in song_2_sections]\n",
    "        y_2 = [tempo for (_,_,tempo) in start_duration_tempo_2]\n",
    "        median_tempo_2 = np.median(y_2)\n",
    "        absolute_difference  = abs(median_tempo_1 - median_tempo_2)\n",
    "        similarities.append((song_id_2, absolute_difference))\n",
    "    time_elapsed = time.time() - start_time\n",
    "    print(\"Distance median--- %s seconds ---\" % (time_elapsed))\n",
    "    print(len(similarities))\n",
    "    print(time_elapsed/len(similarities))\n",
    "    \n",
    "    similarities = sorted(similarities, key=lambda tup: tup[1], reverse = False)\n",
    "    print(similarities[0:10])\n",
    "    "
   ]
  },
  {
   "cell_type": "code",
   "execution_count": 200,
   "metadata": {},
   "outputs": [
    {
     "name": "stdout",
     "output_type": "stream",
     "text": [
      "Distance median--- 0.1469860076904297 seconds ---\n",
      "2556\n",
      "5.7506262789682974e-05\n",
      "[('2TmWgYDevPOukQGNJPeZrN', 0.0), ('0ikmhbH2wPx0iFayhraSWp', 0.14800000000002456), ('5p7ujcrUXASCNwRaWNHR1C', 0.16599999999999682), ('5WvAo7DNuPRmk4APhdPzi8', 0.19649999999998613), ('2tAXJtlhqsT7kJoH4yTGhx', 0.20599999999998886), ('5DuT7x2TtzMerIe94Ju5wI', 0.2115000000000009), ('2qXicQG06oT0ijKBznpgQv', 0.22999999999996135), ('6TCW0OXyzUHN5QCCIj7Hr8', 0.23400000000000887), ('6rJZ1otRMXH8UHzYBWCfv1', 0.23649999999997817), ('4247FwxHfmtIJgILhAKjaa', 0.2629999999999768)]\n"
     ]
    }
   ],
   "source": [
    "find_most_similar_median_tempo_song(song_ids_list[73], features_and_analysis)"
   ]
  },
  {
   "cell_type": "code",
   "execution_count": null,
   "metadata": {
    "collapsed": true
   },
   "outputs": [],
   "source": []
  }
 ],
 "metadata": {
  "kernelspec": {
   "display_name": "Python 3",
   "language": "python",
   "name": "python3"
  },
  "language_info": {
   "codemirror_mode": {
    "name": "ipython",
    "version": 3
   },
   "file_extension": ".py",
   "mimetype": "text/x-python",
   "name": "python",
   "nbconvert_exporter": "python",
   "pygments_lexer": "ipython3",
   "version": "3.6.3"
  }
 },
 "nbformat": 4,
 "nbformat_minor": 2
}
