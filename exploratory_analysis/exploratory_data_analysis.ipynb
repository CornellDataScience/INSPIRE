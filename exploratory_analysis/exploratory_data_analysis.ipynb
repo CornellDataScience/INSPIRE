{
 "cells": [
  {
   "cell_type": "code",
   "execution_count": 121,
   "metadata": {},
   "outputs": [],
   "source": [
    "import json\n",
    "import spotipy\n",
    "import matplotlib.pyplot as plt\n",
    "import seaborn as sns\n",
    "import numpy as np"
   ]
  },
  {
   "cell_type": "code",
   "execution_count": 2,
   "metadata": {
    "collapsed": true
   },
   "outputs": [],
   "source": [
    "with open('../data/pop_track_id_features_and_analysis.json') as f:\n",
    "    features_and_analysis = json.load(f)"
   ]
  },
  {
   "cell_type": "code",
   "execution_count": 12,
   "metadata": {},
   "outputs": [],
   "source": [
    "song_ids = features_and_analysis.keys()"
   ]
  },
  {
   "cell_type": "code",
   "execution_count": 13,
   "metadata": {
    "collapsed": true
   },
   "outputs": [],
   "source": [
    "song_ids_list = list(song_ids)"
   ]
  },
  {
   "cell_type": "code",
   "execution_count": 14,
   "metadata": {},
   "outputs": [
    {
     "name": "stdout",
     "output_type": "stream",
     "text": [
      "{'danceability': 0.443, 'energy': 0.558, 'key': 0, 'loudness': -5.436, 'mode': 1, 'speechiness': 0.0624, 'acousticness': 0.441, 'instrumentalness': 0, 'liveness': 0.163, 'valence': 0.248, 'tempo': 116.838, 'type': 'audio_features', 'id': '15O20RQyWJgKrkHID9ynT9', 'uri': 'spotify:track:15O20RQyWJgKrkHID9ynT9', 'track_href': 'https://api.spotify.com/v1/tracks/15O20RQyWJgKrkHID9ynT9', 'analysis_url': 'https://api.spotify.com/v1/audio-analysis/15O20RQyWJgKrkHID9ynT9', 'duration_ms': 233337, 'time_signature': 4}\n"
     ]
    }
   ],
   "source": [
    "# Features, type is list\n",
    "print(features_and_analysis['15O20RQyWJgKrkHID9ynT9'][0][0])"
   ]
  },
  {
   "cell_type": "code",
   "execution_count": 143,
   "metadata": {},
   "outputs": [
    {
     "name": "stdout",
     "output_type": "stream",
     "text": [
      "dict_keys(['meta', 'track', 'bars', 'beats', 'tatums', 'sections', 'segments'])\n",
      "TRACK\n",
      "{'num_samples': 5145082, 'duration': 233.33705, 'sample_md5': '', 'offset_seconds': 0, 'window_seconds': 0, 'analysis_sample_rate': 22050, 'analysis_channels': 1, 'end_of_fade_in': 0.0, 'start_of_fade_out': 230.29551, 'loudness': -5.436, 'tempo': 116.838, 'tempo_confidence': 0.048, 'time_signature': 4, 'time_signature_confidence': 0.989, 'key': 0, 'key_confidence': 0.581, 'mode': 1, 'mode_confidence': 0.588, 'code_version': 3.15, 'echoprint_version': 4.12, 'synch_version': 1.0, 'rhythm_version': 1.0}\n",
      "BARS\n",
      "[{'start': 0.0, 'duration': 7.55561, 'confidence': 1.0, 'loudness': -18.004, 'tempo': 113.228, 'tempo_confidence': 0.219, 'key': 0, 'key_confidence': 0.0, 'mode': 1, 'mode_confidence': 0.0, 'time_signature': 4, 'time_signature_confidence': 0.7}, {'start': 7.55561, 'duration': 32.87778, 'confidence': 1.0, 'loudness': -9.152, 'tempo': 114.553, 'tempo_confidence': 0.291, 'key': 0, 'key_confidence': 0.0, 'mode': 1, 'mode_confidence': 0.0, 'time_signature': 4, 'time_signature_confidence': 1.0}, {'start': 40.43339, 'duration': 12.73729, 'confidence': 0.243, 'loudness': -4.333, 'tempo': 113.793, 'tempo_confidence': 0.434, 'key': 0, 'key_confidence': 0.68, 'mode': 1, 'mode_confidence': 0.598, 'time_signature': 4, 'time_signature_confidence': 0.8}, {'start': 53.17068, 'duration': 15.84218, 'confidence': 0.004, 'loudness': -4.328, 'tempo': 111.501, 'tempo_confidence': 0.404, 'key': 5, 'key_confidence': 0.242, 'mode': 1, 'mode_confidence': 0.224, 'time_signature': 1, 'time_signature_confidence': 0.682}, {'start': 69.01286, 'duration': 21.26858, 'confidence': 0.104, 'loudness': -5.584, 'tempo': 106.371, 'tempo_confidence': 0.553, 'key': 0, 'key_confidence': 0.673, 'mode': 1, 'mode_confidence': 0.627, 'time_signature': 1, 'time_signature_confidence': 0.774}, {'start': 90.28144, 'duration': 15.5508, 'confidence': 0.441, 'loudness': -4.524, 'tempo': 118.709, 'tempo_confidence': 0.436, 'key': 10, 'key_confidence': 0.01, 'mode': 1, 'mode_confidence': 0.136, 'time_signature': 4, 'time_signature_confidence': 0.696}, {'start': 105.83224, 'duration': 13.46967, 'confidence': 0.079, 'loudness': -4.257, 'tempo': 119.775, 'tempo_confidence': 0.492, 'key': 0, 'key_confidence': 0.077, 'mode': 1, 'mode_confidence': 0.432, 'time_signature': 4, 'time_signature_confidence': 1.0}, {'start': 119.3019, 'duration': 18.11238, 'confidence': 0.305, 'loudness': -4.959, 'tempo': 120.752, 'tempo_confidence': 0.462, 'key': 0, 'key_confidence': 0.617, 'mode': 1, 'mode_confidence': 0.547, 'time_signature': 4, 'time_signature_confidence': 0.939}, {'start': 137.41429, 'duration': 22.17778, 'confidence': 0.702, 'loudness': -7.384, 'tempo': 125.949, 'tempo_confidence': 0.282, 'key': 0, 'key_confidence': 0.386, 'mode': 1, 'mode_confidence': 0.565, 'time_signature': 4, 'time_signature_confidence': 0.357}, {'start': 159.59206, 'duration': 7.24021, 'confidence': 0.499, 'loudness': -5.113, 'tempo': 123.746, 'tempo_confidence': 0.274, 'key': 10, 'key_confidence': 0.299, 'mode': 1, 'mode_confidence': 0.582, 'time_signature': 4, 'time_signature_confidence': 1.0}, {'start': 166.83227, 'duration': 34.21456, 'confidence': 0.628, 'loudness': -4.777, 'tempo': 120.607, 'tempo_confidence': 0.434, 'key': 0, 'key_confidence': 0.584, 'mode': 1, 'mode_confidence': 0.561, 'time_signature': 4, 'time_signature_confidence': 0.922}, {'start': 201.04683, 'duration': 32.29022, 'confidence': 0.51, 'loudness': -4.717, 'tempo': 120.296, 'tempo_confidence': 0.331, 'key': 0, 'key_confidence': 0.755, 'mode': 1, 'mode_confidence': 0.617, 'time_signature': 4, 'time_signature_confidence': 1.0}]\n"
     ]
    }
   ],
   "source": [
    "# Analysis, type is dictionary\n",
    "print(features_and_analysis['15O20RQyWJgKrkHID9ynT9'][1].keys())\n",
    "print(\"TRACK\")\n",
    "print(features_and_analysis['15O20RQyWJgKrkHID9ynT9'][1]['track'])\n",
    "\n",
    "print(\"BARS\")\n",
    "print(features_and_analysis['15O20RQyWJgKrkHID9ynT9'][1]['sections'])\n"
   ]
  },
  {
   "cell_type": "code",
   "execution_count": 129,
   "metadata": {
    "collapsed": true
   },
   "outputs": [],
   "source": [
    "def compare_bars_of_two_songs(song_id_1, song_id_2, features_and_analysis):\n",
    "    song_1_bars = features_and_analysis[song_id_1][1]['bars']\n",
    "    song_2_bars = features_and_analysis[song_id_2][1]['bars']\n",
    "    \n",
    "    num_bars_1 = len(song_1_bars)\n",
    "    num_bars_2 = len(song_2_bars)\n",
    "    \n",
    "    durations_bars_1 = [bar['duration'] for bar in song_1_bars]\n",
    "    durations_bars_2 = [bar['duration'] for bar in song_2_bars]\n",
    "    \n",
    "    print(\"number of bars in song 1: \", num_bars_1)\n",
    "    print(\"number of bars in song 2: \", num_bars_2)\n",
    "    \n",
    "    print(\"Average duration of bars in song 1: \", sum(durations_bars_1) / len(durations_bars_1))\n",
    "    print(\"Average duration of bars in song 2: \", sum(durations_bars_2) / len(durations_bars_2))\n"
   ]
  },
  {
   "cell_type": "code",
   "execution_count": 17,
   "metadata": {},
   "outputs": [
    {
     "name": "stdout",
     "output_type": "stream",
     "text": [
      "number of bars in song 1:  114\n",
      "number of bars in song 2:  95\n",
      "Average duration of bars in song 1:  2.016471140350877\n",
      "Average duration of bars in song 2:  2.411837052631579\n"
     ]
    }
   ],
   "source": [
    "compare_bars_of_two_songs(song_ids_list[0],song_ids_list[1], features_and_analysis)"
   ]
  },
  {
   "cell_type": "code",
   "execution_count": 139,
   "metadata": {},
   "outputs": [],
   "source": [
    "def compare_loudness_of_two_songs(song_id_1, song_id_2, features_and_analysis):\n",
    "    song_1_sections = features_and_analysis[song_id_1][1]['sections']\n",
    "    song_2_sections = features_and_analysis[song_id_2][1]['sections']\n",
    "    start_duration_loudness_1 = [(section['start'], section['duration'], section['loudness']) for section in song_1_sections]\n",
    "    start_duration_loudness_2 = [(section['start'], section['duration'], section['loudness']) for section in song_2_sections]\n",
    "\n",
    "    x_1 = [start for (start,_,_) in start_duration_loudness_1] \n",
    "    x_1 = [max(x_1) - start for start in x_1]\n",
    "    y_1 = [-1 * loudness for (_,_,loudness) in start_duration_loudness_1]\n",
    "    \n",
    "    x_2 = [start for (start,_,_) in start_duration_loudness_2] \n",
    "    x_2 = [max(x_2) - start for start in x_2]\n",
    "    y_2 = [-1 * loudness for (_,_,loudness) in start_duration_loudness_2]\n",
    "   \n",
    "    sns.lineplot(x_1,y_1, label=\"song_1\")\n",
    "    sns.lineplot(x_2,y_2, label=\"song_2\")\n",
    "    plt.xlabel(\"Time in seconds\")\n",
    "    plt.ylabel(\"Loudness\")\n",
    "    plt.show()\n",
    "    "
   ]
  },
  {
   "cell_type": "code",
   "execution_count": 140,
   "metadata": {},
   "outputs": [
    {
     "data": {
      "image/png": "[encoded data removed]",
      "text/plain": [
       "<matplotlib.figure.Figure at 0x15156a358>"
      ]
     },
     "metadata": {},
     "output_type": "display_data"
    }
   ],
   "source": [
    "compare_loudness_of_two_songs(song_ids_list[0], song_ids_list[10], features_and_analysis)"
   ]
  },
  {
   "cell_type": "code",
   "execution_count": 146,
   "metadata": {},
   "outputs": [],
   "source": [
    "def compare_tempo_of_two_songs(song_id_1, song_id_2, features_and_analysis):\n",
    "    song_1_sections = features_and_analysis[song_id_1][1]['sections']\n",
    "    song_2_sections = features_and_analysis[song_id_2][1]['sections']\n",
    "    start_duration_tempo_1 = [(section['start'], section['duration'], section['tempo']) for section in song_1_sections]\n",
    "    start_duration_tempo_2 = [(section['start'], section['duration'], section['tempo']) for section in song_2_sections]\n",
    "\n",
    "    x_1 = [start for (start,_,_) in start_duration_tempo_1] \n",
    "    x_1 = [max(x_1) - start for start in x_1]\n",
    "    y_1 = [tempo for (_,_,tempo) in start_duration_tempo_1]\n",
    "    \n",
    "    x_2 = [start for (start,_,_) in start_duration_tempo_2] \n",
    "    x_2 = [max(x_2) - start for start in x_2]\n",
    "    y_2 = [tempo for (_,_,tempo) in start_duration_tempo_2]\n",
    "   \n",
    "    sns.lineplot(x_1,y_1, label=\"song_1\")\n",
    "    sns.lineplot(x_2,y_2, label=\"song_2\")\n",
    "    plt.xlabel(\"Time in seconds\")\n",
    "    plt.ylabel(\"tempo\")\n",
    "    plt.show()\n",
    "    "
   ]
  },
  {
   "cell_type": "code",
   "execution_count": 148,
   "metadata": {},
   "outputs": [
    {
     "data": {
      "image/png": "[encoded data removed]",
      "text/plain": [
       "<matplotlib.figure.Figure at 0x1517a4240>"
      ]
     },
     "metadata": {},
     "output_type": "display_data"
    }
   ],
   "source": [
    "compare_tempo_of_two_songs(song_ids_list[0], song_ids_list[1], features_and_analysis)"
   ]
  },
  {
   "cell_type": "code",
   "execution_count": null,
   "metadata": {
    "collapsed": true
   },
   "outputs": [],
   "source": []
  },
  {
   "cell_type": "code",
   "execution_count": null,
   "metadata": {
    "collapsed": true
   },
   "outputs": [],
   "source": []
  }
 ],
 "metadata": {
  "kernelspec": {
   "display_name": "Python 3",
   "language": "python",
   "name": "python3"
  },
  "language_info": {
   "codemirror_mode": {
    "name": "ipython",
    "version": 3
   },
   "file_extension": ".py",
   "mimetype": "text/x-python",
   "name": "python",
   "nbconvert_exporter": "python",
   "pygments_lexer": "ipython3",
   "version": "3.6.3"
  }
 },
 "nbformat": 4,
 "nbformat_minor": 2
}
